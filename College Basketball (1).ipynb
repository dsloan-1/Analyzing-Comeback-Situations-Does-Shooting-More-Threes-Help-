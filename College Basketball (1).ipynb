{
 "cells": [
  {
   "cell_type": "markdown",
   "id": "5ac7d5ca",
   "metadata": {},
   "source": [
    "\n",
    "# Analyzing Comeback Situations: Does Shooting More Threes Help?\n",
    "## Dylan Sloan"
   ]
  },
  {
   "cell_type": "markdown",
   "id": "ad5a7767",
   "metadata": {},
   "source": [
    "### Introduction\n",
    "        A lot of teams and coaches wonder what the data says about these end of game situations. This project intends to answer the question of if a team needs a comeback, does it actually matter whether they shoot threes or twos?"
   ]
  },
  {
   "cell_type": "markdown",
   "id": "c268dc0b",
   "metadata": {},
   "source": [
    "### Data Gathering"
   ]
  },
  {
   "cell_type": "code",
   "execution_count": 3,
   "id": "884d305c",
   "metadata": {},
   "outputs": [],
   "source": [
    "import pandas as pd\n",
    "import zipfile\n",
    "import os\n",
    "import numpy as np\n",
    "\n",
    "path = './NCAA_D1_PBP_2010_22'\n",
    "zipped_files = [f for f in os.listdir(path) if f.endswith('.zip')]\n",
    "\n",
    "all_dataframes = []\n",
    "\n",
    "for zf in zipped_files:\n",
    "    with zipfile.ZipFile(os.path.join(path, zf), 'r') as zip_ref:\n",
    "        zip_ref.extractall(path)\n",
    "        csv_file = zf.replace('.zip', '')\n",
    "        df = pd.read_csv(os.path.join(path, csv_file))\n",
    "        all_dataframes.append(df)\n",
    "\n",
    "combined_dataframe = pd.concat(all_dataframes, ignore_index=True)\n"
   ]
  },
  {
   "cell_type": "markdown",
   "id": "6894127b",
   "metadata": {},
   "source": [
    "### Defining a Comeback\n",
    "        I decided to define a comeback as any team who was down 7 or more points within 5 minutes to go. This made it a three possession game."
   ]
  },
  {
   "cell_type": "code",
   "execution_count": 4,
   "id": "c8775e81",
   "metadata": {},
   "outputs": [],
   "source": [
    "potential_comebacks = combined_dataframe[\n",
    "    (combined_dataframe['secs_left_reg'] <= 300) &\n",
    "    (abs(combined_dataframe['home_score'] - combined_dataframe['away_score']) >= 7)\n",
    "]"
   ]
  },
  {
   "cell_type": "markdown",
   "id": "178b7d1b",
   "metadata": {},
   "source": [
    "### Filtering Final Scores"
   ]
  },
  {
   "cell_type": "code",
   "execution_count": 5,
   "id": "71d7effe",
   "metadata": {},
   "outputs": [],
   "source": [
    "final_scores = combined_dataframe.groupby('GameID').last()"
   ]
  },
  {
   "cell_type": "markdown",
   "id": "21603654",
   "metadata": {},
   "source": [
    "### Down and Won Data\n",
    "        The down and won data is all the games where a team was in a potential comeback situation (down 7 with 5 minutes or less to go) and ended up winning the game. There were 1193 games where the team made a comeback and won."
   ]
  },
  {
   "cell_type": "code",
   "execution_count": 6,
   "id": "e6fc5946",
   "metadata": {},
   "outputs": [
    {
     "name": "stdout",
     "output_type": "stream",
     "text": [
      "           GameID        Date  Season        home_team  \\\n",
      "107926  400588645  2014-11-18    2015  Stetson Hatters   \n",
      "107927  400588645  2014-11-18    2015  Stetson Hatters   \n",
      "107928  400588645  2014-11-18    2015  Stetson Hatters   \n",
      "107929  400588645  2014-11-18    2015  Stetson Hatters   \n",
      "107930  400588645  2014-11-18    2015  Stetson Hatters   \n",
      "\n",
      "                             away_team  \\\n",
      "107926  Florida International Panthers   \n",
      "107927  Florida International Panthers   \n",
      "107928  Florida International Panthers   \n",
      "107929  Florida International Panthers   \n",
      "107930  Florida International Panthers   \n",
      "\n",
      "                                              play_desc  home_score  \\\n",
      "107926  Kyle Sikora made Layup. Assisted by Brian Pegg.        49.0   \n",
      "107927                      Tashwan Desir missed Layup.        49.0   \n",
      "107928                    Brian Pegg Defensive Rebound.        49.0   \n",
      "107929          Divine Myles missed Three Point Jumper.        49.0   \n",
      "107930                 Kentwan Smith Offensive Rebound.        49.0   \n",
      "\n",
      "        away_score  half  secs_left_half  secs_left_reg  \\\n",
      "107926        45.0   2.0           285.0          285.0   \n",
      "107927        45.0   2.0           255.0          255.0   \n",
      "107928        45.0   2.0           255.0          255.0   \n",
      "107929        45.0   2.0           222.0          222.0   \n",
      "107930        45.0   2.0           222.0          222.0   \n",
      "\n",
      "                             play_team play_type  scoring_play      shooter  \\\n",
      "107926                 Stetson Hatters     layup          True  Kyle Sikora   \n",
      "107927  Florida International Panthers     layup         False          NaN   \n",
      "107928                 Stetson Hatters   rebound         False          NaN   \n",
      "107929                 Stetson Hatters    jumper         False          NaN   \n",
      "107930                 Stetson Hatters   rebound         False          NaN   \n",
      "\n",
      "        is_assisted assist_player  \n",
      "107926         True    Brian Pegg  \n",
      "107927        False           NaN  \n",
      "107928        False           NaN  \n",
      "107929        False           NaN  \n",
      "107930        False           NaN  \n"
     ]
    }
   ],
   "source": [
    "merged_df = pd.merge(potential_comebacks, final_scores, on='GameID', suffixes=('', '_final'))\n",
    "actual_comebacks = merged_df[\n",
    "    ((merged_df['home_score'] > merged_df['away_score']) & (merged_df['home_score_final'] < merged_df['away_score_final'])) |\n",
    "    ((merged_df['home_score'] < merged_df['away_score']) & (merged_df['home_score_final'] > merged_df['away_score_final']))\n",
    "]\n",
    "\n",
    "comeback_game_ids = actual_comebacks['GameID'].unique()\n",
    "\n",
    "down_and_won_df = combined_dataframe[\n",
    "    (combined_dataframe['GameID'].isin(comeback_game_ids)) &\n",
    "    (combined_dataframe['secs_left_reg'] <= 300)\n",
    "]\n",
    "\n",
    "down_and_won_df.sort_values(by=['GameID', 'secs_left_reg'], ascending=[True, False])\n",
    "\n",
    "print(down_and_won_df.head())"
   ]
  },
  {
   "cell_type": "code",
   "execution_count": 10,
   "id": "1e987e4d",
   "metadata": {},
   "outputs": [
    {
     "name": "stdout",
     "output_type": "stream",
     "text": [
      "The number of unique GameID's is: 1193\n"
     ]
    }
   ],
   "source": [
    "unique_game_ids = down_and_won_df['GameID'].nunique()\n",
    "print(\"The number of unique GameID's is:\", unique_game_ids)\n"
   ]
  },
  {
   "cell_type": "markdown",
   "id": "c51452eb",
   "metadata": {},
   "source": [
    "### Down but Lost Data\n",
    "        The down and lost data is all the games where a team was in a potential comeback situation (down 7 with 5 minutes or less to go) and ended up losing the game. There were 48,826 games where a team could've made a comeback but lost."
   ]
  },
  {
   "cell_type": "code",
   "execution_count": 8,
   "id": "f3d39e8d",
   "metadata": {},
   "outputs": [
    {
     "name": "stdout",
     "output_type": "stream",
     "text": [
      "             GameID        Date  Season                home_team  \\\n",
      "16717518  293130025  2009-11-09    2010  California Golden Bears   \n",
      "16717519  293130025  2009-11-09    2010  California Golden Bears   \n",
      "16717520  293130025  2009-11-09    2010  California Golden Bears   \n",
      "16717521  293130025  2009-11-09    2010  California Golden Bears   \n",
      "16717522  293130025  2009-11-09    2010  California Golden Bears   \n",
      "\n",
      "                    away_team                                 play_desc  \\\n",
      "16717518  Murray State Racers  Jorge Gutierrez missed Two Point Jumper.   \n",
      "16717519  Murray State Racers                       B.J. Jenkins Block.   \n",
      "16717520  Murray State Racers            Tony Easley Defensive Rebound.   \n",
      "16717521  Murray State Racers               Foul on Patrick Christopher   \n",
      "16717522  Murray State Racers                Ivan Aska made Free Throw.   \n",
      "\n",
      "          home_score  away_score  half  secs_left_half  secs_left_reg  \\\n",
      "16717518        66.0        53.0   2.0           293.0          293.0   \n",
      "16717519        66.0        53.0   2.0           293.0          293.0   \n",
      "16717520        66.0        53.0   2.0           289.0          289.0   \n",
      "16717521        66.0        53.0   2.0           286.0          286.0   \n",
      "16717522        66.0        54.0   2.0           286.0          286.0   \n",
      "\n",
      "                        play_team   play_type  scoring_play    shooter  \\\n",
      "16717518  California Golden Bears      jumper         False        NaN   \n",
      "16717519      Murray State Racers       block         False        NaN   \n",
      "16717520      Murray State Racers     rebound         False        NaN   \n",
      "16717521  California Golden Bears        foul         False        NaN   \n",
      "16717522      Murray State Racers  free throw          True  Ivan Aska   \n",
      "\n",
      "          is_assisted assist_player  \n",
      "16717518        False           NaN  \n",
      "16717519        False           NaN  \n",
      "16717520        False           NaN  \n",
      "16717521        False           NaN  \n",
      "16717522        False           NaN  \n"
     ]
    }
   ],
   "source": [
    "merged_df = pd.merge(potential_comebacks, final_scores, on='GameID', suffixes=('', '_final'))\n",
    "\n",
    "down_but_lost = merged_df[\n",
    "    ((merged_df['home_score'] > merged_df['away_score']) & (merged_df['home_score_final'] >= merged_df['away_score_final'])) |\n",
    "    ((merged_df['home_score'] < merged_df['away_score']) & (merged_df['home_score_final'] <= merged_df['away_score_final']))\n",
    "]\n",
    "\n",
    "down_but_lost_game_ids = down_but_lost['GameID'].unique()\n",
    "\n",
    "down_but_lost_df = combined_dataframe[\n",
    "    (combined_dataframe['GameID'].isin(down_but_lost_game_ids)) &\n",
    "    (combined_dataframe['secs_left_reg'] <= 300)\n",
    "]\n",
    "\n",
    "down_but_lost_df = down_but_lost_df.sort_values(by=['GameID', 'secs_left_reg'], ascending=[True, False])\n",
    "\n",
    "print(down_but_lost_df.head())"
   ]
  },
  {
   "cell_type": "code",
   "execution_count": 10,
   "id": "8e6abfad",
   "metadata": {},
   "outputs": [
    {
     "name": "stdout",
     "output_type": "stream",
     "text": [
      "The number of unique GameID's is: 48826\n"
     ]
    }
   ],
   "source": [
    "unique_game_ids2 = down_but_lost_df['GameID'].nunique()\n",
    "print(\"The number of unique GameID's is:\", unique_game_ids2)"
   ]
  },
  {
   "cell_type": "markdown",
   "id": "ed18d07c",
   "metadata": {},
   "source": [
    "### Identifying which Teams Won and Lost"
   ]
  },
  {
   "cell_type": "code",
   "execution_count": 15,
   "id": "e952b11c",
   "metadata": {},
   "outputs": [
    {
     "name": "stdout",
     "output_type": "stream",
     "text": [
      "      GameID        Date  Season        home_team  \\\n",
      "0  400588645  2014-11-18    2015  Stetson Hatters   \n",
      "1  400588645  2014-11-18    2015  Stetson Hatters   \n",
      "2  400588645  2014-11-18    2015  Stetson Hatters   \n",
      "3  400588645  2014-11-18    2015  Stetson Hatters   \n",
      "4  400588645  2014-11-18    2015  Stetson Hatters   \n",
      "\n",
      "                        away_team  \\\n",
      "0  Florida International Panthers   \n",
      "1  Florida International Panthers   \n",
      "2  Florida International Panthers   \n",
      "3  Florida International Panthers   \n",
      "4  Florida International Panthers   \n",
      "\n",
      "                                         play_desc  home_score  away_score  \\\n",
      "0  Kyle Sikora made Layup. Assisted by Brian Pegg.        49.0        45.0   \n",
      "1                      Tashwan Desir missed Layup.        49.0        45.0   \n",
      "2                    Brian Pegg Defensive Rebound.        49.0        45.0   \n",
      "3          Divine Myles missed Three Point Jumper.        49.0        45.0   \n",
      "4                 Kentwan Smith Offensive Rebound.        49.0        45.0   \n",
      "\n",
      "   half  secs_left_half  secs_left_reg                       play_team  \\\n",
      "0   2.0           285.0          285.0                 Stetson Hatters   \n",
      "1   2.0           255.0          255.0  Florida International Panthers   \n",
      "2   2.0           255.0          255.0                 Stetson Hatters   \n",
      "3   2.0           222.0          222.0                 Stetson Hatters   \n",
      "4   2.0           222.0          222.0                 Stetson Hatters   \n",
      "\n",
      "  play_type  scoring_play      shooter  is_assisted assist_player  \\\n",
      "0     layup          True  Kyle Sikora         True    Brian Pegg   \n",
      "1     layup         False          NaN        False           NaN   \n",
      "2   rebound         False          NaN        False           NaN   \n",
      "3    jumper         False          NaN        False           NaN   \n",
      "4   rebound         False          NaN        False           NaN   \n",
      "\n",
      "                           winner  \n",
      "0  Florida International Panthers  \n",
      "1  Florida International Panthers  \n",
      "2  Florida International Panthers  \n",
      "3  Florida International Panthers  \n",
      "4  Florida International Panthers  \n"
     ]
    }
   ],
   "source": [
    "import numpy as np\n",
    "final_scores = down_and_won_df.groupby('GameID').last()\n",
    "\n",
    "final_scores['winner'] = np.where(final_scores['home_score'] > final_scores['away_score'], final_scores['home_team'], final_scores['away_team'])\n",
    "\n",
    "down_and_won_df = down_and_won_df.merge(final_scores[['winner']], on='GameID', how='left')\n",
    "\n",
    "print(down_and_won_df.head())"
   ]
  },
  {
   "cell_type": "code",
   "execution_count": 16,
   "id": "8a8f4924",
   "metadata": {},
   "outputs": [
    {
     "name": "stdout",
     "output_type": "stream",
     "text": [
      "      GameID        Date  Season                home_team  \\\n",
      "0  293130025  2009-11-09    2010  California Golden Bears   \n",
      "1  293130025  2009-11-09    2010  California Golden Bears   \n",
      "2  293130025  2009-11-09    2010  California Golden Bears   \n",
      "3  293130025  2009-11-09    2010  California Golden Bears   \n",
      "4  293130025  2009-11-09    2010  California Golden Bears   \n",
      "\n",
      "             away_team                                 play_desc  home_score  \\\n",
      "0  Murray State Racers  Jorge Gutierrez missed Two Point Jumper.        66.0   \n",
      "1  Murray State Racers                       B.J. Jenkins Block.        66.0   \n",
      "2  Murray State Racers            Tony Easley Defensive Rebound.        66.0   \n",
      "3  Murray State Racers               Foul on Patrick Christopher        66.0   \n",
      "4  Murray State Racers                Ivan Aska made Free Throw.        66.0   \n",
      "\n",
      "   away_score  half  secs_left_half  secs_left_reg                play_team  \\\n",
      "0        53.0   2.0           293.0          293.0  California Golden Bears   \n",
      "1        53.0   2.0           293.0          293.0      Murray State Racers   \n",
      "2        53.0   2.0           289.0          289.0      Murray State Racers   \n",
      "3        53.0   2.0           286.0          286.0  California Golden Bears   \n",
      "4        54.0   2.0           286.0          286.0      Murray State Racers   \n",
      "\n",
      "    play_type  scoring_play    shooter  is_assisted assist_player  \\\n",
      "0      jumper         False        NaN        False           NaN   \n",
      "1       block         False        NaN        False           NaN   \n",
      "2     rebound         False        NaN        False           NaN   \n",
      "3        foul         False        NaN        False           NaN   \n",
      "4  free throw          True  Ivan Aska        False           NaN   \n",
      "\n",
      "                 loser  \n",
      "0  Murray State Racers  \n",
      "1  Murray State Racers  \n",
      "2  Murray State Racers  \n",
      "3  Murray State Racers  \n",
      "4  Murray State Racers  \n"
     ]
    }
   ],
   "source": [
    "import numpy as np\n",
    "import pandas as pd  \n",
    "\n",
    "final_scores = down_but_lost_df.groupby('GameID').last().reset_index()\n",
    "\n",
    "final_scores['loser'] = np.where(final_scores['home_score'] > final_scores['away_score'], final_scores['away_team'], final_scores['home_team'])\n",
    "\n",
    "down_but_lost_df = pd.merge(down_but_lost_df, final_scores[['GameID', 'loser']], on='GameID', how='left')\n",
    "\n",
    "print(down_but_lost_df.head())"
   ]
  },
  {
   "cell_type": "markdown",
   "id": "c19de2b6",
   "metadata": {},
   "source": [
    "### Filtering the Three Pointers Shot"
   ]
  },
  {
   "cell_type": "code",
   "execution_count": 17,
   "id": "9ebb22bd",
   "metadata": {},
   "outputs": [],
   "source": [
    "down_and_won_df1 = down_and_won_df[(down_and_won_df['play_desc'].str.contains(\"Three Point\", case=False, na=False)) & \n",
    "                          (down_and_won_df['play_team'] == down_and_won_df['winner'])]\n",
    "\n",
    "down_but_lost_df1 = down_but_lost_df[(down_but_lost_df['play_desc'].str.contains(\"Three Point\", case=False, na=False)) & \n",
    "                          (down_but_lost_df['play_team'] == down_but_lost_df['loser'])]\n"
   ]
  },
  {
   "cell_type": "markdown",
   "id": "33dfb0f5",
   "metadata": {},
   "source": [
    "### Counting the Three Pointers Shot"
   ]
  },
  {
   "cell_type": "code",
   "execution_count": 18,
   "id": "2fc20798",
   "metadata": {},
   "outputs": [],
   "source": [
    "down_and_won_df1 = down_and_won_df1.copy()\n",
    "down_and_won_df1.loc[:, 'three_point_shots'] = down_and_won_df1.groupby('GameID')['GameID'].transform('count')\n",
    "\n",
    "down_but_lost_df1 = down_but_lost_df1.copy()\n",
    "down_but_lost_df1.loc[:, 'three_point_shots'] = down_but_lost_df1.groupby('GameID')['GameID'].transform('count')\n"
   ]
  },
  {
   "cell_type": "markdown",
   "id": "e3e7c733",
   "metadata": {},
   "source": [
    "### Filtering for Testing"
   ]
  },
  {
   "cell_type": "code",
   "execution_count": 19,
   "id": "4ec6faee",
   "metadata": {},
   "outputs": [],
   "source": [
    "down_and_won_df2 = down_and_won_df1.groupby('GameID').first().reset_index()\n",
    "down_but_lost_df2 = down_but_lost_df1.groupby('GameID').first().reset_index()\n",
    "down_and_won_df3=down_and_won_df2[['GameID','three_point_shots']]\n",
    "down_but_lost_df3=down_but_lost_df2[['GameID','three_point_shots']]"
   ]
  },
  {
   "cell_type": "markdown",
   "id": "95867389",
   "metadata": {},
   "source": [
    "### Finding the Games where there was 0 Three Point Shots\n",
    "        When I filtered the games with three point shots I got rid of the games with 0 three point shots. This code adds those games back in the dataset."
   ]
  },
  {
   "cell_type": "code",
   "execution_count": 20,
   "id": "b54e4d7e",
   "metadata": {},
   "outputs": [],
   "source": [
    "unique_gameid_down_and_won_df1 = set(down_and_won_df1['GameID'].unique())\n",
    "unique_gameid_down_and_won_df = set(down_and_won_df['GameID'].unique())\n",
    "not_common_gameid_in_df1 = unique_gameid_down_and_won_df1 - unique_gameid_down_and_won_df\n",
    "not_common_gameid_in_df = unique_gameid_down_and_won_df - unique_gameid_down_and_won_df1\n",
    "rows_not_common_in_df1 = down_and_won_df1[down_and_won_df1['GameID'].isin(not_common_gameid_in_df1)]\n",
    "rows_not_common_in_df = down_and_won_df[down_and_won_df['GameID'].isin(not_common_gameid_in_df)]\n"
   ]
  },
  {
   "cell_type": "code",
   "execution_count": 21,
   "id": "a6be103f",
   "metadata": {},
   "outputs": [],
   "source": [
    "unique_gameid_down_but_lost_df1 = set(down_but_lost_df1['GameID'].unique())\n",
    "unique_gameid_down_but_lost_df = set(down_but_lost_df['GameID'].unique())\n",
    "not_common_gameid_in_lost_df1 = unique_gameid_down_but_lost_df1 - unique_gameid_down_but_lost_df\n",
    "not_common_gameid_in_lost_df = unique_gameid_down_but_lost_df - unique_gameid_down_but_lost_df1\n",
    "rows_not_common_in_lost_df1 = down_but_lost_df1[down_but_lost_df1['GameID'].isin(not_common_gameid_in_lost_df1)]\n",
    "rows_not_common_in_lost_df = down_but_lost_df[down_but_lost_df['GameID'].isin(not_common_gameid_in_lost_df)]\n"
   ]
  },
  {
   "cell_type": "code",
   "execution_count": 22,
   "id": "7f391047",
   "metadata": {},
   "outputs": [],
   "source": [
    "unique_game_ids = down_and_won_df[~down_and_won_df['GameID'].isin(down_and_won_df1['GameID'])]['GameID'].unique()\n",
    "unique_game_ids_list = list(unique_game_ids)\n",
    "unique_game_ids_win_df = pd.DataFrame({'GameID': unique_game_ids_list})\n",
    "unique_game_ids_win_df['three_point_shots'] = 0\n",
    "\n"
   ]
  },
  {
   "cell_type": "code",
   "execution_count": 23,
   "id": "f990d1a1",
   "metadata": {},
   "outputs": [],
   "source": [
    "unique_game_ids_lost = down_but_lost_df[~down_but_lost_df['GameID'].isin(down_but_lost_df1['GameID'])]['GameID'].unique()\n",
    "unique_game_ids_lost_list = list(unique_game_ids_lost)\n",
    "unique_game_ids_loss_df = pd.DataFrame({'GameID': unique_game_ids_list})\n",
    "unique_game_ids_loss_df['three_point_shots'] = 0\n",
    "\n"
   ]
  },
  {
   "cell_type": "markdown",
   "id": "f7195f0c",
   "metadata": {},
   "source": [
    "### Filtering for Testing"
   ]
  },
  {
   "cell_type": "code",
   "execution_count": 24,
   "id": "a838644d",
   "metadata": {},
   "outputs": [],
   "source": [
    "down_and_won_df2 = down_and_won_df1.groupby('GameID').first().reset_index()\n",
    "down_but_lost_df2 = down_but_lost_df1.groupby('GameID').first().reset_index()\n",
    "down_and_won_df3=down_and_won_df2[['GameID','three_point_shots']]\n",
    "down_but_lost_df3=down_but_lost_df2[['GameID','three_point_shots']]"
   ]
  },
  {
   "cell_type": "code",
   "execution_count": 25,
   "id": "1897eb41",
   "metadata": {},
   "outputs": [],
   "source": [
    "combined_df_win = pd.concat([down_and_won_df3, unique_game_ids_win_df], ignore_index=True)\n",
    "combined_df_loss = pd.concat([down_but_lost_df3, unique_game_ids_loss_df], ignore_index=True)"
   ]
  },
  {
   "cell_type": "code",
   "execution_count": 26,
   "id": "097b0254",
   "metadata": {},
   "outputs": [],
   "source": [
    "win_and_comeback = combined_df_win['three_point_shots']\n",
    "loss_and_comeback = combined_df_loss['three_point_shots']"
   ]
  },
  {
   "cell_type": "markdown",
   "id": "ef77dcce",
   "metadata": {},
   "source": [
    "### Conclusion\n",
    "        The mean of the threes shot in games where the team came back and won the game was 3.97 and the mean of the threes shot in the games where the team had a chance to comeback but lost is 3.78. To find out whether the threes shot in these two groups was statistically different, it is neccesary to do a t-test. From the t-tests shown below it can be concluded that these two groups are statistically different and that it is better to shoot more threes when in a comeback situation."
   ]
  },
  {
   "cell_type": "code",
   "execution_count": 27,
   "id": "12eda499",
   "metadata": {},
   "outputs": [
    {
     "data": {
      "text/plain": [
       "3.9715004191114835"
      ]
     },
     "execution_count": 27,
     "metadata": {},
     "output_type": "execute_result"
    }
   ],
   "source": [
    "win_and_comeback.mean()"
   ]
  },
  {
   "cell_type": "code",
   "execution_count": 28,
   "id": "9fcfa33c",
   "metadata": {},
   "outputs": [
    {
     "data": {
      "text/plain": [
       "3.781711164277699"
      ]
     },
     "execution_count": 28,
     "metadata": {},
     "output_type": "execute_result"
    }
   ],
   "source": [
    "loss_and_comeback.mean()"
   ]
  },
  {
   "cell_type": "code",
   "execution_count": 29,
   "id": "64f9d08c",
   "metadata": {},
   "outputs": [
    {
     "name": "stdout",
     "output_type": "stream",
     "text": [
      "t-statistic: 2.509614379987808\n",
      "p-value: 0.01221424400525684\n",
      "We reject the null hypothesis: the means of the two groups are statistically different.\n"
     ]
    }
   ],
   "source": [
    "from scipy import stats\n",
    "t_stat, p_value = stats.ttest_ind(win_and_comeback,loss_and_comeback, equal_var=False)\n",
    "print(f\"t-statistic: {t_stat}\")\n",
    "print(f\"p-value: {p_value}\")\n",
    "\n",
    "alpha = 0.05  \n",
    "if p_value < alpha:\n",
    "    print(\"We reject the null hypothesis: the means of the two groups are statistically different.\")\n",
    "else:\n",
    "    print(\"We fail to reject the null hypothesis: there is not enough evidence to say that the means are different.\")"
   ]
  },
  {
   "cell_type": "code",
   "execution_count": 30,
   "id": "48a7a006",
   "metadata": {},
   "outputs": [
    {
     "name": "stdout",
     "output_type": "stream",
     "text": [
      "t-statistic: 2.509614379987808\n",
      "One-tailed p-value: 0.00610712200262842\n",
      "We reject the null hypothesis: the mean of comebacks that won is statistically greater than that of comebacks that lost.\n"
     ]
    }
   ],
   "source": [
    "from scipy import stats\n",
    "t_stat, p_value = stats.ttest_ind(win_and_comeback,loss_and_comeback, equal_var=False)\n",
    "one_tailed_p_value = p_value / 2\n",
    "print(f\"t-statistic: {t_stat}\")\n",
    "print(f\"One-tailed p-value: {one_tailed_p_value}\")\n",
    "alpha = 0.05  \n",
    "if one_tailed_p_value < alpha:\n",
    "    if t_stat > 0:\n",
    "        print(\"We reject the null hypothesis: the mean of comebacks that won is statistically greater than that of comebacks that lost.\")\n",
    "    else:\n",
    "        print(\"We reject the null hypothesis: the mean of comebacks that lost is statistically greater than that of comebacks that won.\")\n",
    "else:\n",
    "    print(\"We fail to reject the null hypothesis: there is not enough evidence to say that one mean is greater than the other.\")"
   ]
  },
  {
   "cell_type": "code",
   "execution_count": 31,
   "id": "a862c09d",
   "metadata": {},
   "outputs": [
    {
     "name": "stdout",
     "output_type": "stream",
     "text": [
      "t-statistic: 2.509614379987808\n",
      "One-tailed p-value: 0.00610712200262842\n",
      "We reject the null hypothesis: the mean of comebacks that lost is statistically greater than that of comebacks that won.\n"
     ]
    }
   ],
   "source": [
    "from scipy import stats\n",
    "t_stat, p_value = stats.ttest_ind(win_and_comeback,loss_and_comeback, equal_var=False)\n",
    "one_tailed_p_value = p_value / 2\n",
    "print(f\"t-statistic: {t_stat}\")\n",
    "print(f\"One-tailed p-value: {one_tailed_p_value}\")\n",
    "alpha = 0.05  \n",
    "if one_tailed_p_value < alpha:\n",
    "    if t_stat < 0:\n",
    "        print(\"We reject the null hypothesis: the mean of comebacks that won is statistically greater than that of comebacks that lost.\")\n",
    "    else:\n",
    "        print(\"We reject the null hypothesis: the mean of comebacks that lost is statistically greater than that of comebacks that won.\")\n",
    "else:\n",
    "    print(\"We fail to reject the null hypothesis: there is not enough evidence to say that one mean is less than the other.\")"
   ]
  },
  {
   "cell_type": "markdown",
   "id": "d016a2ff",
   "metadata": {},
   "source": [
    "### References\n",
    "            I got the play by play data from the github of Julian Zapatahall. I really appreciate him sharing this data."
   ]
  },
  {
   "cell_type": "code",
   "execution_count": 32,
   "id": "fa0bede1",
   "metadata": {},
   "outputs": [
    {
     "name": "stdout",
     "output_type": "stream",
     "text": [
      "fatal: destination path 'NCAA_D1_PBP_2010_22' already exists and is not an empty directory.\r\n"
     ]
    }
   ],
   "source": [
    "!git clone https://github.com/julianzapatahall/NCAA_D1_PBP_2010_22.git"
   ]
  },
  {
   "cell_type": "code",
   "execution_count": null,
   "id": "d4126754",
   "metadata": {},
   "outputs": [],
   "source": []
  }
 ],
 "metadata": {
  "kernelspec": {
   "display_name": "Python 3 (ipykernel)",
   "language": "python",
   "name": "python3"
  },
  "language_info": {
   "codemirror_mode": {
    "name": "ipython",
    "version": 3
   },
   "file_extension": ".py",
   "mimetype": "text/x-python",
   "name": "python",
   "nbconvert_exporter": "python",
   "pygments_lexer": "ipython3",
   "version": "3.9.13"
  }
 },
 "nbformat": 4,
 "nbformat_minor": 5
}
